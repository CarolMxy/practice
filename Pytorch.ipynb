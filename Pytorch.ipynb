{
 "cells": [
  {
   "cell_type": "code",
   "execution_count": 43,
   "id": "da1382a1-adf1-4987-a434-43a418779095",
   "metadata": {},
   "outputs": [],
   "source": [
    "import torch\n",
    "import numpy as np"
   ]
  },
  {
   "cell_type": "markdown",
   "id": "589078e9-e74d-4297-a464-a4fd56d99e5c",
   "metadata": {},
   "source": [
    "### Tensor"
   ]
  },
  {
   "cell_type": "markdown",
   "id": "6dc02106-339a-470f-a4bc-61413bddef0a",
   "metadata": {},
   "source": [
    "**x.add(y)与x.add_(y)**             加法"
   ]
  },
  {
   "cell_type": "code",
   "execution_count": 8,
   "id": "bafc1f06-2411-4aed-a417-0654ae25cd5e",
   "metadata": {},
   "outputs": [
    {
     "name": "stdout",
     "output_type": "stream",
     "text": [
      "tensor([1, 2])\n",
      "tensor([3, 4])\n",
      "tensor([4, 6])\n",
      "tensor([4, 6])\n"
     ]
    }
   ],
   "source": [
    "x = torch.tensor([1,2])\n",
    "y = torch.tensor([3,4])\n",
    "z = x.add(y) ## 不改变x\n",
    "print(x)\n",
    "print(y)\n",
    "print(z)\n",
    "x.add_(y) ## 改变x\n",
    "print(x)"
   ]
  },
  {
   "cell_type": "code",
   "execution_count": 11,
   "id": "9adbefc9-7f88-4a16-af7f-28e0b02c4f2d",
   "metadata": {},
   "outputs": [
    {
     "data": {
      "text/plain": [
       "tensor([[-3.0329e-36,  1.3466e-42,  0.0000e+00],\n",
       "        [ 0.0000e+00,  0.0000e+00,  0.0000e+00]])"
      ]
     },
     "execution_count": 11,
     "metadata": {},
     "output_type": "execute_result"
    }
   ],
   "source": [
    "torch.Tensor([1,2,3,4,5,6])\n",
    "torch.Tensor(3,5)\n",
    "t = torch.Tensor([[1,2,3],[4,5,6]])\n",
    "t.size()  #查看形状\n",
    "t.shape #等价\n",
    "torch.Tensor(t.size())"
   ]
  },
  {
   "cell_type": "markdown",
   "id": "789e0829-f287-482c-92f6-b3124607c200",
   "metadata": {},
   "source": [
    "**torch.Tensor v.s. torch.tensor**"
   ]
  },
  {
   "cell_type": "markdown",
   "id": "3c7289a9-731d-4cc3-ad99-3959686873fe",
   "metadata": {},
   "source": [
    "**修改形状**"
   ]
  },
  {
   "cell_type": "code",
   "execution_count": 32,
   "id": "31e7336f-a9d6-4f7b-8def-3aaf060851ea",
   "metadata": {},
   "outputs": [
    {
     "data": {
      "text/plain": [
       "torch.Size([2, 3])"
      ]
     },
     "execution_count": 32,
     "metadata": {},
     "output_type": "execute_result"
    }
   ],
   "source": [
    "x = torch.randn(2,3)\n",
    "x.size()"
   ]
  },
  {
   "cell_type": "code",
   "execution_count": 17,
   "id": "6c17a7ac-1231-4093-a732-a5bff40ba283",
   "metadata": {},
   "outputs": [
    {
     "data": {
      "text/plain": [
       "tensor([[ 1.0018,  1.4806, -0.3129],\n",
       "        [ 0.5637,  0.0371, -1.0389]])"
      ]
     },
     "execution_count": 17,
     "metadata": {},
     "output_type": "execute_result"
    }
   ],
   "source": [
    "x"
   ]
  },
  {
   "cell_type": "code",
   "execution_count": 15,
   "id": "6eec27d4-8b6b-4157-be83-fd0dc3e36335",
   "metadata": {},
   "outputs": [
    {
     "data": {
      "text/plain": [
       "2"
      ]
     },
     "execution_count": 15,
     "metadata": {},
     "output_type": "execute_result"
    }
   ],
   "source": [
    "x.dim()"
   ]
  },
  {
   "cell_type": "code",
   "execution_count": 30,
   "id": "05ab5872-a6e0-4aba-93a5-8a689c6e884b",
   "metadata": {},
   "outputs": [
    {
     "data": {
      "text/plain": [
       "tensor([[ 1.0018,  1.4806],\n",
       "        [-0.3129,  0.5637],\n",
       "        [ 0.0371, -1.0389]])"
      ]
     },
     "execution_count": 30,
     "metadata": {},
     "output_type": "execute_result"
    }
   ],
   "source": [
    "x.view(3,2) #不改变x"
   ]
  },
  {
   "cell_type": "code",
   "execution_count": 18,
   "id": "170fe483-6b16-4235-b7f6-1db3dd07fe47",
   "metadata": {},
   "outputs": [
    {
     "data": {
      "text/plain": [
       "tensor([[ 1.0018,  1.4806, -0.3129],\n",
       "        [ 0.5637,  0.0371, -1.0389]])"
      ]
     },
     "execution_count": 18,
     "metadata": {},
     "output_type": "execute_result"
    }
   ],
   "source": [
    "x"
   ]
  },
  {
   "cell_type": "code",
   "execution_count": 22,
   "id": "54deb89a-2cf7-49e2-82cd-7084cdb05fd2",
   "metadata": {},
   "outputs": [
    {
     "data": {
      "text/plain": [
       "torch.Size([6])"
      ]
     },
     "execution_count": 22,
     "metadata": {},
     "output_type": "execute_result"
    }
   ],
   "source": [
    "y = x.view(-1)\n",
    "y.shape"
   ]
  },
  {
   "cell_type": "code",
   "execution_count": 28,
   "id": "77096a08-06a1-436d-b96b-e4a3b0a8c739",
   "metadata": {},
   "outputs": [
    {
     "name": "stdout",
     "output_type": "stream",
     "text": [
      "tensor([[ 1.0018,  1.4806, -0.3129,  0.5637,  0.0371, -1.0389]])\n"
     ]
    },
    {
     "data": {
      "text/plain": [
       "torch.Size([1, 6])"
      ]
     },
     "execution_count": 28,
     "metadata": {},
     "output_type": "execute_result"
    }
   ],
   "source": [
    "z = torch.unsqueeze(y,0)\n",
    "print(z)\n",
    "z.size()"
   ]
  },
  {
   "cell_type": "code",
   "execution_count": 34,
   "id": "047056a4-aa3a-4b17-8279-b3013d8ef391",
   "metadata": {},
   "outputs": [
    {
     "data": {
      "text/plain": [
       "6"
      ]
     },
     "execution_count": 34,
     "metadata": {},
     "output_type": "execute_result"
    }
   ],
   "source": [
    "z.numel()  #number of elements"
   ]
  },
  {
   "cell_type": "markdown",
   "id": "3e3e9016-bfe8-4d92-b57b-b48a9a7353f1",
   "metadata": {},
   "source": [
    "**torch.view v.s. torch.reshape**"
   ]
  },
  {
   "cell_type": "markdown",
   "id": "ddc096a9-353f-4ca3-8218-d6cd78919a27",
   "metadata": {},
   "source": [
    "**索引**"
   ]
  },
  {
   "cell_type": "code",
   "execution_count": 38,
   "id": "ae13bfce-26c7-4546-8c28-c08240edff53",
   "metadata": {},
   "outputs": [
    {
     "name": "stdout",
     "output_type": "stream",
     "text": [
      "tensor([ 0.3607, -0.2859, -0.3938])\n",
      "tensor([-0.3938, -2.3134])\n"
     ]
    }
   ],
   "source": [
    "torch.manual_seed(100) #随机数种子\n",
    "x = torch.randn(2,3)\n",
    "print(x[0,:])\n",
    "print(x[:,-1])"
   ]
  },
  {
   "cell_type": "code",
   "execution_count": 40,
   "id": "f5cb2931-ae94-4ba9-85d0-9d3096b1b757",
   "metadata": {},
   "outputs": [],
   "source": [
    "mask=x>0\n",
    "torch.masked_select(x,mask)  # (input,mask)\n",
    "torch.nonzero(mask)\n",
    "index = torch.LongTensor([[0,1,1],[1,1,1]])\n",
    "a = torch.gather(x,1,index)\n",
    "z = torch.zeros(2,3)"
   ]
  },
  {
   "cell_type": "code",
   "execution_count": 41,
   "id": "d616227b-3386-411f-b331-e89827bb0287",
   "metadata": {},
   "outputs": [
    {
     "data": {
      "text/plain": [
       "tensor([[ 0.3607, -0.2859,  0.0000],\n",
       "        [ 0.0000, -1.3833,  0.0000]])"
      ]
     },
     "execution_count": 41,
     "metadata": {},
     "output_type": "execute_result"
    }
   ],
   "source": [
    "z.scatter_(1,index,a)"
   ]
  },
  {
   "cell_type": "markdown",
   "id": "472b3d63-fd11-4d49-a30f-b0a69687d888",
   "metadata": {},
   "source": [
    "**广播机制**：允许不同形状或大小的数组进行数学运算"
   ]
  },
  {
   "cell_type": "code",
   "execution_count": 58,
   "id": "fad5e6f6-6c42-40f0-a911-d6f2b57782d8",
   "metadata": {},
   "outputs": [
    {
     "name": "stdout",
     "output_type": "stream",
     "text": [
      "A: [[ 0]\n",
      " [10]\n",
      " [20]\n",
      " [30]]\n",
      "B: [0 1 2]\n",
      "A1: tensor([[ 0],\n",
      "        [10],\n",
      "        [20],\n",
      "        [30]], dtype=torch.int32)\n",
      "B1: tensor([0, 1, 2], dtype=torch.int32)\n",
      "B2: tensor([[0, 1, 2]], dtype=torch.int32)\n",
      "A2: tensor([[ 0,  0,  0],\n",
      "        [10, 10, 10],\n",
      "        [20, 20, 20],\n",
      "        [30, 30, 30]], dtype=torch.int32)\n",
      "B3: tensor([[0, 1, 2],\n",
      "        [0, 1, 2],\n",
      "        [0, 1, 2],\n",
      "        [0, 1, 2]], dtype=torch.int32)\n",
      "tensor([[ 0,  1,  2],\n",
      "        [10, 11, 12],\n",
      "        [20, 21, 22],\n",
      "        [30, 31, 32]], dtype=torch.int32)\n"
     ]
    }
   ],
   "source": [
    "A = np.arange(0,40,10).reshape(4,1)\n",
    "B = np.arange(0,3)\n",
    "print(\"A:\",A)\n",
    "print(\"B:\",B)\n",
    "# 转换为Tensor\n",
    "A1 = torch.from_numpy(A)  \n",
    "B1 = torch.from_numpy(B)  #形状为3\n",
    "print(\"A1:\",A1)\n",
    "print(\"B1:\",B1)\n",
    "C = A1+B1  #Tensor自动实现广播\n",
    "B2 = B1.unsqueeze(0) #变成一行\n",
    "print(\"B2:\",B2)\n",
    "A2 = A1.expand(4,3) #重复数组\n",
    "B3 = B2.expand(4,3)\n",
    "print(\"A2:\",A2)\n",
    "print(\"B3:\",B3)\n",
    "C = A2+B3\n",
    "print(C)"
   ]
  },
  {
   "cell_type": "markdown",
   "id": "7c15828b-2e16-4128-a87f-e8117016b17a",
   "metadata": {},
   "source": [
    "**逐元素操作**"
   ]
  },
  {
   "cell_type": "code",
   "execution_count": 65,
   "id": "2dc0beaf-15f8-495b-8815-e5abbf5d706c",
   "metadata": {},
   "outputs": [
    {
     "name": "stdout",
     "output_type": "stream",
     "text": [
      "tensor([[ 0.5895, -0.3747, -1.2307]])\n",
      "tensor([[ 1.5123],\n",
      "        [-0.7597],\n",
      "        [ 0.6139]])\n",
      "tensor([[-0.9933, -1.1286, -0.8027]])\n"
     ]
    },
    {
     "data": {
      "text/plain": [
       "tensor([[ 0.4373, -0.5087, -1.4191],\n",
       "        [ 0.6660, -0.3074, -1.1361],\n",
       "        [ 0.5277, -0.4291, -1.3072]])"
      ]
     },
     "execution_count": 65,
     "metadata": {},
     "output_type": "execute_result"
    }
   ],
   "source": [
    "t = torch.randn(1,3)\n",
    "t1 = torch.randn(3,1)\n",
    "t2 = torch.randn(1,3)\n",
    "print(t)\n",
    "print(t1)\n",
    "print(t2)\n",
    "torch.addcdiv(t,0.1,t1,t2)  #这里t1和t2做的是矩阵乘法"
   ]
  },
  {
   "cell_type": "code",
   "execution_count": 61,
   "id": "45eaafb0-3bbd-4c7d-9eae-09bbcd55ca83",
   "metadata": {},
   "outputs": [
    {
     "data": {
      "text/plain": [
       "tensor([[0.4357, 0.4376, 0.6170]])"
      ]
     },
     "execution_count": 61,
     "metadata": {},
     "output_type": "execute_result"
    }
   ],
   "source": [
    "torch.sigmoid(t)"
   ]
  },
  {
   "cell_type": "code",
   "execution_count": 62,
   "id": "6e9de64f-5411-4770-976a-1631ae968611",
   "metadata": {},
   "outputs": [
    {
     "data": {
      "text/plain": [
       "tensor([[0.0000, 0.0000, 0.4770]])"
      ]
     },
     "execution_count": 62,
     "metadata": {},
     "output_type": "execute_result"
    }
   ],
   "source": [
    "torch.clamp(t,0,1)"
   ]
  },
  {
   "cell_type": "code",
   "execution_count": 63,
   "id": "b27d0ab2-a671-4dba-929f-22ef2f1ce7a5",
   "metadata": {},
   "outputs": [
    {
     "data": {
      "text/plain": [
       "tensor([[1.7414, 1.7490, 2.4770]])"
      ]
     },
     "execution_count": 63,
     "metadata": {},
     "output_type": "execute_result"
    }
   ],
   "source": [
    "t.add_(2)"
   ]
  },
  {
   "cell_type": "markdown",
   "id": "1e6292a8-71a0-440f-b006-aff13d8ff936",
   "metadata": {},
   "source": [
    "**clamp**"
   ]
  },
  {
   "cell_type": "code",
   "execution_count": 67,
   "id": "1096d1a1-f50a-4d3d-94c4-e67bef9afb2c",
   "metadata": {},
   "outputs": [
    {
     "name": "stdout",
     "output_type": "stream",
     "text": [
      "a: tensor([[0, 1, 2],\n",
      "        [3, 4, 5],\n",
      "        [6, 7, 8]])\n",
      "shape of a: torch.Size([3, 3])\n",
      "b: tensor([[3, 3, 3],\n",
      "        [3, 4, 5],\n",
      "        [6, 6, 6]])\n",
      "shape of b: torch.Size([3, 3])\n"
     ]
    }
   ],
   "source": [
    "import torch\n",
    " \n",
    "a = torch.arange(9).reshape(3, 3)   # 创建3*3的tensor\n",
    "b = torch.clamp(a, 3, 6)     # 对a的值进行限幅，限制在[3, 6]\n",
    "print('a:', a)\n",
    "print('shape of a:', a.shape)\n",
    "print('b:', b)\n",
    "print('shape of b:', b.shape)"
   ]
  },
  {
   "cell_type": "code",
   "execution_count": null,
   "id": "2997934c-105a-48d6-9ec9-0eaa4f0b675b",
   "metadata": {},
   "outputs": [],
   "source": []
  }
 ],
 "metadata": {
  "kernelspec": {
   "display_name": "Python 3 (ipykernel)",
   "language": "python",
   "name": "python3"
  },
  "language_info": {
   "codemirror_mode": {
    "name": "ipython",
    "version": 3
   },
   "file_extension": ".py",
   "mimetype": "text/x-python",
   "name": "python",
   "nbconvert_exporter": "python",
   "pygments_lexer": "ipython3",
   "version": "3.12.7"
  }
 },
 "nbformat": 4,
 "nbformat_minor": 5
}
