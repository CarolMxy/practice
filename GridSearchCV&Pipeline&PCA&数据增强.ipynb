{
 "cells": [
  {
   "cell_type": "markdown",
   "id": "8edbf3e0-0cde-4a75-943b-fe2c6553d173",
   "metadata": {},
   "source": [
    "## Pipeline"
   ]
  },
  {
   "cell_type": "markdown",
   "id": "f8f87a84-acda-4303-b25c-b5a2a5ed9f5b",
   "metadata": {},
   "source": [
    " - 将多个数据处理步骤和模型训练封装为单一对象\n",
    " - 流程自动化\n",
    "   \n",
    "   将数据预处理（如标准化、编码、特征选择）和模型训练（如分类、回归）串联为一个整体流程，避免手动逐步调用函数。\n",
    " - 确保流程可重复\n",
    " - 避免数据泄漏\n",
    "   \n",
    "   在交叉验证时，确保每个训练集的预处理步骤（如缩放）仅基于训练数据计算统计量，而不是整个数据集。\n",
    "\n",
    " - 代码简洁性\n",
    "   \n",
    "   通过链式调用代替分散的步骤，提高代码可读性和可维护性。\n",
    " - 与超参数调优无缝集成\n",
    "   结合 GridSearchCV 或 RandomizedSearchCV，可同时对预处理参数和模型参数进行调优。"
   ]
  },
  {
   "cell_type": "markdown",
   "id": "d66b6f7a-5b20-4694-9705-576b17a24e0c",
   "metadata": {},
   "source": [
    " - 由多个Steps组成，每个Step是一个元组 (name, transformer_or_estimator)"
   ]
  },
  {
   "cell_type": "code",
   "execution_count": null,
   "id": "a1112431-d75c-4635-ba41-4dc5b87a78b4",
   "metadata": {},
   "outputs": [],
   "source": [
    "from sklearn.pipeline import Pipeline\n",
    "from sklearn.preprocessing import StandardScaler\n",
    "from sklearn.svm import SVC\n",
    "\n",
    "pipeline = Pipeline([\n",
    "    (\"scaler\", StandardScaler()),  # 第一步：标准化\n",
    "    (\"svm\", SVC())                 # 第二步：SVM 分类器\n",
    "])"
   ]
  },
  {
   "cell_type": "markdown",
   "id": "f5fa7d40-8d56-4204-92dc-8d9091cd8484",
   "metadata": {},
   "source": [
    " - 转换器（Transformer）：实现 fit 和 transform 的类（如 StandardScaler）\n",
    " - 估计器（Estimator）：实现 fit 和 predict 的模型（如 SVC）"
   ]
  },
  {
   "cell_type": "code",
   "execution_count": null,
   "id": "7ebfcbc5-4788-4504-957d-5a714818ed04",
   "metadata": {},
   "outputs": [],
   "source": [
    "# 基础训练与预测\n",
    "# 直接像普通模型一样使用\n",
    "pipeline.fit(X_train, y_train)\n",
    "y_pred = pipeline.predict(X_test)"
   ]
  },
  {
   "cell_type": "code",
   "execution_count": null,
   "id": "d1ae49d0-8c38-4e88-b7be-297092d7f702",
   "metadata": {},
   "outputs": [],
   "source": [
    "# 超参数搜索\n",
    "from sklearn.model_selection import GridSearchCV\n",
    "\n",
    "params = {\n",
    "    \"svm__C\": [0.1, 1, 10],          # 格式：步骤名__参数名\n",
    "    \"scaler__with_mean\": [True, False]\n",
    "}\n",
    "\n",
    "grid_search = GridSearchCV(pipeline, params, cv=5)\n",
    "grid_search.fit(X_train, y_train)\n",
    "print(grid_search.best_params_)"
   ]
  },
  {
   "cell_type": "code",
   "execution_count": null,
   "id": "e860b559-c248-4924-ac58-4db1640db61a",
   "metadata": {},
   "outputs": [],
   "source": [
    "from sklearn.pipeline import FeatureUnion\n",
    "from sklearn.decomposition import PCA\n",
    "from sklearn.feature_extraction.text import TfidfVectorizer\n",
    "\n",
    "# 并行处理数值特征和文本特征\n",
    "feature_union = FeatureUnion([\n",
    "    (\"numeric\", StandardScaler()),\n",
    "    (\"text\", TfidfVectorizer())\n",
    "])\n",
    "\n",
    "pipeline = Pipeline([\n",
    "    (\"features\", feature_union),\n",
    "    (\"classifier\", SVC())\n",
    "])"
   ]
  },
  {
   "cell_type": "markdown",
   "id": "f740352c-3e25-4d46-bc74-58db04be4338",
   "metadata": {},
   "source": [
    "### Notice"
   ]
  },
  {
   "cell_type": "markdown",
   "id": "741f8f0a-4170-4464-8de2-a6bd64ed9a01",
   "metadata": {},
   "source": [
    " - 步骤顺序敏感\n",
    "\n",
    "    e.g. 缺失值填充——标准化\n",
    "\n",
    "    e.g. 降维——特征选择\n",
    "\n",
    " - 仅支持顺序执行\n",
    "\n",
    "   若需并行处理多个特征（如数值和文本），需用 FeatureUnion。\n",
    " - 避免在 Pipeline 中缓存大型数据\n",
    "   \n",
    "    memory 参数启用"
   ]
  },
  {
   "cell_type": "markdown",
   "id": "64bb4f97-af52-4342-b0f2-fd7a7a49be28",
   "metadata": {},
   "source": [
    "### 对比"
   ]
  },
  {
   "cell_type": "code",
   "execution_count": null,
   "id": "e29c15ec-37fa-4058-8eb8-d300495780a1",
   "metadata": {},
   "outputs": [],
   "source": [
    "# 非Pipeline\n",
    "scaler = StandardScaler()\n",
    "X_train_scaled = scaler.fit_transform(X_train)\n",
    "X_test_scaled = scaler.transform(X_test)  # 必须用训练集的均值和方差！\n",
    "\n",
    "model = SVC()\n",
    "model.fit(X_train_scaled, y_train)\n",
    "y_pred = model.predict(X_test_scaled)"
   ]
  },
  {
   "cell_type": "code",
   "execution_count": null,
   "id": "7b5d0d86-375c-4fbf-bf9c-a7a00ba296c0",
   "metadata": {},
   "outputs": [],
   "source": [
    "# Pipeline\n",
    "pipeline = Pipeline([(\"scaler\", StandardScaler()), (\"svm\", SVC())])\n",
    "pipeline.fit(X_train, y_train)\n",
    "y_pred = pipeline.predict(X_test)"
   ]
  },
  {
   "cell_type": "markdown",
   "id": "ffb7fd7c-0113-4e6f-8f13-44e2d6451422",
   "metadata": {},
   "source": [
    "## PCA"
   ]
  },
  {
   "cell_type": "markdown",
   "id": "4ae000cd-203d-4a49-a5bc-628b4233b4d0",
   "metadata": {},
   "source": [
    " - fit(self, X，Y=None)   模型训练，由于PCA是无监督学习，所以Y=None，没有标签；\n",
    " - fit_transform(self, X,Y=None)  训练模型，对X降维，返回降维后数据；\n",
    " - get_covariance(self)   获得协方差数据；\n",
    " - get_params(self,deep=True)  返回模型参数；\n",
    " - get_precision(self)  计算数据精度矩阵；\n",
    " - inverse_transform(self, X)   将降维后的数据转换成原始数据，可能不会完全一样；\n",
    " - score(self, X, Y=None)   计算所有样本的log似然平均值\n",
    " - transform(X) 将数据X转换成降维后的数据。\n",
    "\n",
    "当模型训练好后，对于新输入的数据，都可以用transform方法来降维。"
   ]
  },
  {
   "cell_type": "markdown",
   "id": "0a5102cb-8054-4e07-9313-91eec71b3476",
   "metadata": {},
   "source": [
    "sklearn.decomposition.PCA(n_components=None, copy=True, whiten=False)\n",
    " - n_components：降到几维\n",
    "\n",
    "n_components=2 代表返回前2个主成分\n",
    "\n",
    "n_components=None，返回所有主成分\n",
    "\n",
    "n_components=‘mle’，将自动选取主成分个数n，使得满足所要求的方差百分比\n",
    "\n",
    "0 < n_components < 1代表满足最低的主成分方差累计贡献率\n",
    "\n",
    " - copy：bool，默认True。是否复制原数据，因为降维时数据会变动。\n",
    "\n",
    "copy=True时，fit_transform(X)，显示出降维后的数据。\n",
    "\n",
    "copy=False时，fit(X).transform(X) ，才能够显示出降维后的数据。\n",
    " - whiten:bool,默认False\n",
    "\n",
    "白化：预处理，降低输入数据的冗余性，使特征之间相关性较低，所有特征具有相同的方差。"
   ]
  },
  {
   "cell_type": "code",
   "execution_count": 15,
   "id": "11517289-c757-4850-8b6a-a04dd273814a",
   "metadata": {},
   "outputs": [
    {
     "name": "stdout",
     "output_type": "stream",
     "text": [
      "降维后的数据: [[-2.68412563  0.31939725]\n",
      " [-2.71414169 -0.17700123]\n",
      " [-2.88899057 -0.14494943]\n",
      " [-2.74534286 -0.31829898]\n",
      " [-2.72871654  0.32675451]\n",
      " [-2.28085963  0.74133045]\n",
      " [-2.82053775 -0.08946138]\n",
      " [-2.62614497  0.16338496]\n",
      " [-2.88638273 -0.57831175]\n",
      " [-2.6727558  -0.11377425]\n",
      " [-2.50694709  0.6450689 ]\n",
      " [-2.61275523  0.01472994]\n",
      " [-2.78610927 -0.235112  ]\n",
      " [-3.22380374 -0.51139459]\n",
      " [-2.64475039  1.17876464]\n",
      " [-2.38603903  1.33806233]\n",
      " [-2.62352788  0.81067951]\n",
      " [-2.64829671  0.31184914]\n",
      " [-2.19982032  0.87283904]\n",
      " [-2.5879864   0.51356031]\n",
      " [-2.31025622  0.39134594]\n",
      " [-2.54370523  0.43299606]\n",
      " [-3.21593942  0.13346807]\n",
      " [-2.30273318  0.09870885]\n",
      " [-2.35575405 -0.03728186]\n",
      " [-2.50666891 -0.14601688]\n",
      " [-2.46882007  0.13095149]\n",
      " [-2.56231991  0.36771886]\n",
      " [-2.63953472  0.31203998]\n",
      " [-2.63198939 -0.19696122]\n",
      " [-2.58739848 -0.20431849]\n",
      " [-2.4099325   0.41092426]\n",
      " [-2.64886233  0.81336382]\n",
      " [-2.59873675  1.09314576]\n",
      " [-2.63692688 -0.12132235]\n",
      " [-2.86624165  0.06936447]\n",
      " [-2.62523805  0.59937002]\n",
      " [-2.80068412  0.26864374]\n",
      " [-2.98050204 -0.48795834]\n",
      " [-2.59000631  0.22904384]\n",
      " [-2.77010243  0.26352753]\n",
      " [-2.84936871 -0.94096057]\n",
      " [-2.99740655 -0.34192606]\n",
      " [-2.40561449  0.18887143]\n",
      " [-2.20948924  0.43666314]\n",
      " [-2.71445143 -0.2502082 ]\n",
      " [-2.53814826  0.50377114]\n",
      " [-2.83946217 -0.22794557]\n",
      " [-2.54308575  0.57941002]\n",
      " [-2.70335978  0.10770608]\n",
      " [ 1.28482569  0.68516047]\n",
      " [ 0.93248853  0.31833364]\n",
      " [ 1.46430232  0.50426282]\n",
      " [ 0.18331772 -0.82795901]\n",
      " [ 1.08810326  0.07459068]\n",
      " [ 0.64166908 -0.41824687]\n",
      " [ 1.09506066  0.28346827]\n",
      " [-0.74912267 -1.00489096]\n",
      " [ 1.04413183  0.2283619 ]\n",
      " [-0.0087454  -0.72308191]\n",
      " [-0.50784088 -1.26597119]\n",
      " [ 0.51169856 -0.10398124]\n",
      " [ 0.26497651 -0.55003646]\n",
      " [ 0.98493451 -0.12481785]\n",
      " [-0.17392537 -0.25485421]\n",
      " [ 0.92786078  0.46717949]\n",
      " [ 0.66028376 -0.35296967]\n",
      " [ 0.23610499 -0.33361077]\n",
      " [ 0.94473373 -0.54314555]\n",
      " [ 0.04522698 -0.58383438]\n",
      " [ 1.11628318 -0.08461685]\n",
      " [ 0.35788842 -0.06892503]\n",
      " [ 1.29818388 -0.32778731]\n",
      " [ 0.92172892 -0.18273779]\n",
      " [ 0.71485333  0.14905594]\n",
      " [ 0.90017437  0.32850447]\n",
      " [ 1.33202444  0.24444088]\n",
      " [ 1.55780216  0.26749545]\n",
      " [ 0.81329065 -0.1633503 ]\n",
      " [-0.30558378 -0.36826219]\n",
      " [-0.06812649 -0.70517213]\n",
      " [-0.18962247 -0.68028676]\n",
      " [ 0.13642871 -0.31403244]\n",
      " [ 1.38002644 -0.42095429]\n",
      " [ 0.58800644 -0.48428742]\n",
      " [ 0.80685831  0.19418231]\n",
      " [ 1.22069088  0.40761959]\n",
      " [ 0.81509524 -0.37203706]\n",
      " [ 0.24595768 -0.2685244 ]\n",
      " [ 0.16641322 -0.68192672]\n",
      " [ 0.46480029 -0.67071154]\n",
      " [ 0.8908152  -0.03446444]\n",
      " [ 0.23054802 -0.40438585]\n",
      " [-0.70453176 -1.01224823]\n",
      " [ 0.35698149 -0.50491009]\n",
      " [ 0.33193448 -0.21265468]\n",
      " [ 0.37621565 -0.29321893]\n",
      " [ 0.64257601  0.01773819]\n",
      " [-0.90646986 -0.75609337]\n",
      " [ 0.29900084 -0.34889781]\n",
      " [ 2.53119273 -0.00984911]\n",
      " [ 1.41523588 -0.57491635]\n",
      " [ 2.61667602  0.34390315]\n",
      " [ 1.97153105 -0.1797279 ]\n",
      " [ 2.35000592 -0.04026095]\n",
      " [ 3.39703874  0.55083667]\n",
      " [ 0.52123224 -1.19275873]\n",
      " [ 2.93258707  0.3555    ]\n",
      " [ 2.32122882 -0.2438315 ]\n",
      " [ 2.91675097  0.78279195]\n",
      " [ 1.66177415  0.24222841]\n",
      " [ 1.80340195 -0.21563762]\n",
      " [ 2.1655918   0.21627559]\n",
      " [ 1.34616358 -0.77681835]\n",
      " [ 1.58592822 -0.53964071]\n",
      " [ 1.90445637  0.11925069]\n",
      " [ 1.94968906  0.04194326]\n",
      " [ 3.48705536  1.17573933]\n",
      " [ 3.79564542  0.25732297]\n",
      " [ 1.30079171 -0.76114964]\n",
      " [ 2.42781791  0.37819601]\n",
      " [ 1.19900111 -0.60609153]\n",
      " [ 3.49992004  0.4606741 ]\n",
      " [ 1.38876613 -0.20439933]\n",
      " [ 2.2754305   0.33499061]\n",
      " [ 2.61409047  0.56090136]\n",
      " [ 1.25850816 -0.17970479]\n",
      " [ 1.29113206 -0.11666865]\n",
      " [ 2.12360872 -0.20972948]\n",
      " [ 2.38800302  0.4646398 ]\n",
      " [ 2.84167278  0.37526917]\n",
      " [ 3.23067366  1.37416509]\n",
      " [ 2.15943764 -0.21727758]\n",
      " [ 1.44416124 -0.14341341]\n",
      " [ 1.78129481 -0.49990168]\n",
      " [ 3.07649993  0.68808568]\n",
      " [ 2.14424331  0.1400642 ]\n",
      " [ 1.90509815  0.04930053]\n",
      " [ 1.16932634 -0.16499026]\n",
      " [ 2.10761114  0.37228787]\n",
      " [ 2.31415471  0.18365128]\n",
      " [ 1.9222678   0.40920347]\n",
      " [ 1.41523588 -0.57491635]\n",
      " [ 2.56301338  0.2778626 ]\n",
      " [ 2.41874618  0.3047982 ]\n",
      " [ 1.94410979  0.1875323 ]\n",
      " [ 1.52716661 -0.37531698]\n",
      " [ 1.76434572  0.07885885]\n",
      " [ 1.90094161  0.11662796]\n",
      " [ 1.39018886 -0.28266094]]\n",
      "返回具有最大方差的成分: [[ 0.36138659 -0.08452251  0.85667061  0.3582892 ]\n",
      " [ 0.65658877  0.73016143 -0.17337266 -0.07548102]]\n",
      "保留主成分的方差贡献率: [0.92461872 0.05306648]\n",
      "所有样本的log似然平均值: -2.6997965106756645\n",
      "奇异值: [25.09996044  6.01314738]\n",
      "噪声协方差: 0.05102229650818978\n"
     ]
    },
    {
     "data": {
      "image/png": "[encoded data removed]",
      "text/plain": [
       "<Figure size 800x600 with 1 Axes>"
      ]
     },
     "metadata": {},
     "output_type": "display_data"
    }
   ],
   "source": [
    "import numpy as np\n",
    "import matplotlib.pyplot as plt\n",
    "from sklearn import decomposition,datasets\n",
    "\n",
    "iris=datasets.load_iris()\n",
    "X=iris.data\n",
    "\n",
    "model=decomposition.PCA(n_components=2)\n",
    "model.fit(X)\n",
    "X_new=model.fit_transform(X)\n",
    "Maxcomponent=model.components_   #  components_：返回最大方差的主成分。\n",
    "ratio=model.explained_variance_ratio_  # 降维后的各主成分的方差值占总方差值的比例\n",
    "score=model.score(X)\n",
    "\n",
    "print('降维后的数据:',X_new)\n",
    "print('返回具有最大方差的成分:',Maxcomponent)\n",
    "print('保留主成分的方差贡献率:',ratio)\n",
    "print('所有样本的log似然平均值:',score)\n",
    "print('奇异值:',model.singular_values_)  # 降维时使用了奇异值分解\n",
    "print('噪声协方差:',model.noise_variance_)\n",
    "\n",
    "g1=plt.figure(1,figsize=(8,6))\n",
    "plt.scatter(X_new[:,0],X_new[:,1],c = iris.target,cmap=plt.cm.Set1, s=40)\n",
    "plt.xlabel('x1')\n",
    "plt.ylabel('x2')\n",
    "plt.title('After the dimension reduction')\n",
    "plt.show()"
   ]
  },
  {
   "cell_type": "markdown",
   "id": "9a61af7b-1603-4f62-9581-4ad61bdeb04e",
   "metadata": {},
   "source": [
    "## 数据增强的操作"
   ]
  },
  {
   "cell_type": "code",
   "execution_count": null,
   "id": "54865e42-ebc9-4d38-ac05-7d77348162fa",
   "metadata": {},
   "outputs": [],
   "source": [
    "'''\n",
    "用albumentations库\n",
    "'''\n",
    "import albumentations as A\n",
    "\n",
    "augmenter = A.Compose([A.Rotate(limit=20)])\n",
    "X_augmented = np.array([augmenter(image=img)[\"image\"] for img in X_images])"
   ]
  },
  {
   "cell_type": "code",
   "execution_count": null,
   "id": "85485e6b-d2cf-43c5-9dae-9daf492ededf",
   "metadata": {},
   "outputs": [],
   "source": [
    "# 标签匹配\n",
    "n_augmented = 4  # 每个样本生成 4 个增强样本\n",
    "y_combined = np.hstack([y, np.repeat(y, n_augmented)])"
   ]
  },
  {
   "cell_type": "code",
   "execution_count": null,
   "id": "b7f9a717-481b-4d71-8d30-795aa33b70de",
   "metadata": {},
   "outputs": [],
   "source": [
    "'''\n",
    "动态增强\n",
    "'''\n",
    "# TensorFlow\n",
    "from tensorflow.keras.preprocessing.image import ImageDataGenerator\n",
    "\n",
    "datagen = ImageDataGenerator(rotation_range=20)\n",
    "datagen.fit(X_images)\n",
    "# 在训练时通过生成器实时增强\n",
    "model.fit(datagen.flow(X_images, y, batch_size=32), ...)"
   ]
  },
  {
   "cell_type": "markdown",
   "id": "a92cb7c9-2351-4a0e-84f3-546bada43b8d",
   "metadata": {},
   "source": [
    "## GridSearchCV调优&Pipeline"
   ]
  },
  {
   "cell_type": "code",
   "execution_count": 20,
   "id": "1f156503-b1fa-42aa-915d-71449e811659",
   "metadata": {},
   "outputs": [
    {
     "name": "stdout",
     "output_type": "stream",
     "text": [
      "Best parameters: {'clf': SVC(), 'clf__C': 0.1, 'clf__kernel': 'linear'}\n",
      "Best score: 0.9583333333333334\n"
     ]
    }
   ],
   "source": [
    "from sklearn.pipeline import Pipeline\n",
    "from sklearn.model_selection import GridSearchCV\n",
    "from sklearn.preprocessing import StandardScaler\n",
    "from sklearn.svm import SVC\n",
    "from sklearn.neighbors import KNeighborsClassifier\n",
    "from sklearn import datasets\n",
    "from sklearn.model_selection import train_test_split\n",
    "import pandas as pd\n",
    "import seaborn as sns\n",
    "import matplotlib.pyplot as plt\n",
    "\n",
    "iris = datasets.load_iris()\n",
    "X = iris.data\n",
    "y = iris.target\n",
    "\n",
    "X_train, X_test, y_train, y_test = train_test_split(X,y,test_size = 0.2,random_state = 11)\n",
    "\n",
    "# 定义pipeline\n",
    "pipeline = Pipeline([\n",
    "    ('scaler', StandardScaler()),\n",
    "    ('clf', SVC())\n",
    "])\n",
    "\n",
    "# 参数网格\n",
    "param_grid = [\n",
    "    {'clf': [SVC()],  # 测试SVM模型\n",
    "     'clf__C': [0.1, 1, 10],    # SVM的正则化参数，clf__C表示流水线中clf步骤的C参数\n",
    "     'clf__kernel': ['linear', 'rbf']}, # SVM的核函数类型\n",
    "    {'clf': [KNeighborsClassifier()],  # 测试KNN模型\n",
    "     'clf__n_neighbors': [3, 5, 7]} # KNN的邻居数\n",
    "]\n",
    "\n",
    "# 网格搜索\n",
    "grid_search = GridSearchCV(\n",
    "    pipeline, # 要优化的流水线\n",
    "    param_grid,  # 参数组合列表\n",
    "    cv=5, # 5折交叉验证\n",
    "    scoring='accuracy' # 评估指标为准确率\n",
    ")\n",
    "grid_search.fit(X_train, y_train) # 开始搜索\n",
    "\n",
    "print(\"Best parameters:\", grid_search.best_params_) # 表现最好的参数组合\n",
    "print(\"Best score:\", grid_search.best_score_) # 准确率"
   ]
  }
 ],
 "metadata": {
  "kernelspec": {
   "display_name": "Python 3 (ipykernel)",
   "language": "python",
   "name": "python3"
  },
  "language_info": {
   "codemirror_mode": {
    "name": "ipython",
    "version": 3
   },
   "file_extension": ".py",
   "mimetype": "text/x-python",
   "name": "python",
   "nbconvert_exporter": "python",
   "pygments_lexer": "ipython3",
   "version": "3.12.7"
  }
 },
 "nbformat": 4,
 "nbformat_minor": 5
}
